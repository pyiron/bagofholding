{
 "cells": [
  {
   "metadata": {},
   "cell_type": "markdown",
   "source": [
    "# `bagofholding` introduction\n",
    "\n",
    "This notebook provides a quick rundown of the key user-facing features for `bagofholding`"
   ],
   "id": "6be429b8dfe9b11f"
  },
  {
   "metadata": {
    "ExecuteTime": {
     "end_time": "2025-04-11T15:59:38.288548Z",
     "start_time": "2025-04-11T15:59:38.286445Z"
    }
   },
   "cell_type": "code",
   "source": [
    "import numpy as np\n",
    "\n",
    "import bagofholding as boh"
   ],
   "id": "d9c19bfdab383403",
   "outputs": [],
   "execution_count": 31
  },
  {
   "metadata": {},
   "cell_type": "markdown",
   "source": "`bagofholding` is intended to work with any `pickle`-able python object, so first let's whip up some custom class to work with",
   "id": "21698f0a9180ca76"
  },
  {
   "metadata": {
    "ExecuteTime": {
     "end_time": "2025-04-11T15:59:38.305723Z",
     "start_time": "2025-04-11T15:59:38.303313Z"
    }
   },
   "cell_type": "code",
   "source": [
    "class MyCustomClass:\n",
    "    def __init__(self, n: int):\n",
    "        self.n = n\n",
    "        self.name = f\"my_custom_class_{n}\"\n",
    "        self.data = np.arange(n)\n",
    "\n",
    "    def __eq__(self, other):\n",
    "        return all(\n",
    "            (\n",
    "                self.__class__ == other.__class__,\n",
    "                self.n == other.n,\n",
    "                self.name == other.name,\n",
    "                np.all(self.data == other.data),\n",
    "            )\n",
    "        )\n",
    "\n",
    "my_object = MyCustomClass(10)\n",
    "my_object.__metadata__ = \"Let's add some metadata reminding ourselves this was created for the example notebook\""
   ],
   "id": "fe48a25b0bb0435b",
   "outputs": [],
   "execution_count": 32
  },
  {
   "metadata": {},
   "cell_type": "markdown",
   "source": [
    "## Basics\n",
    "\n",
    "Storage with `bagofholding` differs from `pickle` under the hood, but is intended to be similarly easy to work with.\n",
    "\n",
    "The underlying analogy is that we have a \"bag\" that we're putting our python objects into. Presently, the only back-end we have implemented uses HDF5 with `h5py`, so let's save our object with a bag of that flavour"
   ],
   "id": "9c09b6aed45f4342"
  },
  {
   "metadata": {
    "ExecuteTime": {
     "end_time": "2025-04-11T15:59:38.323490Z",
     "start_time": "2025-04-11T15:59:38.318280Z"
    }
   },
   "cell_type": "code",
   "source": [
    "filename = \"notebook_example.h5\"\n",
    "boh.H5Bag.save(my_object, filename)"
   ],
   "id": "316dab21fdbf074b",
   "outputs": [],
   "execution_count": 33
  },
  {
   "metadata": {},
   "cell_type": "markdown",
   "source": "Saving is a class-level method, we never actually need to instantiate a \"bag\". For loading, we do:",
   "id": "78aeb7cab60da1b5"
  },
  {
   "metadata": {
    "ExecuteTime": {
     "end_time": "2025-04-11T15:59:38.335008Z",
     "start_time": "2025-04-11T15:59:38.330194Z"
    }
   },
   "cell_type": "code",
   "source": [
    "bag = boh.H5Bag(filename)\n",
    "reloaded = bag.load()\n",
    "\n",
    "print(\"The reloaded object is the same as the saved object:\", reloaded == my_object)"
   ],
   "id": "b6f35d6fe5a9ba7",
   "outputs": [
    {
     "name": "stdout",
     "output_type": "stream",
     "text": [
      "The reloaded object is the same as the saved object: True\n"
     ]
    }
   ],
   "execution_count": 34
  },
  {
   "metadata": {},
   "cell_type": "markdown",
   "source": [
    "So the basic save-load cycle is extremely straightforward. From here on, we go beyond the power of `pickle`.\n",
    "\n",
    "We make a \"bag\" object before loading because, without re-instantiating anything we've saved, we can look at its internal structure! Under the hood, we leverage the same [`__reduce__` workflow that `pickle` uses](https://docs.python.org/3/library/pickle.html#object.__reduce__) in order to decompose arbitrary objects. But instead of lumping everything together in a binary blob, `bagofholding` lets us peek at these different components:"
   ],
   "id": "768a3a54c3a556b2"
  },
  {
   "metadata": {
    "ExecuteTime": {
     "end_time": "2025-04-11T15:59:38.340602Z",
     "start_time": "2025-04-11T15:59:38.338308Z"
    }
   },
   "cell_type": "code",
   "source": "bag.list_paths()",
   "id": "87864f699da8f3cf",
   "outputs": [
    {
     "data": {
      "text/plain": [
       "['object',\n",
       " 'object/args',\n",
       " 'object/args/i0',\n",
       " 'object/constructor',\n",
       " 'object/item_iterator',\n",
       " 'object/kv_iterator',\n",
       " 'object/state',\n",
       " 'object/state/__metadata__',\n",
       " 'object/state/data',\n",
       " 'object/state/n',\n",
       " 'object/state/name']"
      ]
     },
     "execution_count": 35,
     "metadata": {},
     "output_type": "execute_result"
    }
   ],
   "execution_count": 35
  },
  {
   "metadata": {},
   "cell_type": "markdown",
   "source": [
    "## Metadata\n",
    "\n",
    "We have additionally scraped metadata from our object at save-time, which can be found using item-access on the bag with the appropriate path:"
   ],
   "id": "2a7276339024b83e"
  },
  {
   "metadata": {
    "ExecuteTime": {
     "end_time": "2025-04-11T15:59:38.349560Z",
     "start_time": "2025-04-11T15:59:38.347257Z"
    }
   },
   "cell_type": "code",
   "source": "bag[\"object\"]",
   "id": "7ee01d6910aa9619",
   "outputs": [
    {
     "data": {
      "text/plain": [
       "Metadata(qualname='MyCustomClass', module='__main__', version='', meta=\"Let's add some metadata reminding ourselves this was created for the example notebook\")"
      ]
     },
     "execution_count": 36,
     "metadata": {},
     "output_type": "execute_result"
    }
   ],
   "execution_count": 36
  },
  {
   "metadata": {},
   "cell_type": "markdown",
   "source": "Complex objects like numpy arrays get non-trivial metadata",
   "id": "689147946404c8bc"
  },
  {
   "metadata": {
    "ExecuteTime": {
     "end_time": "2025-04-11T15:59:38.367972Z",
     "start_time": "2025-04-11T15:59:38.365385Z"
    }
   },
   "cell_type": "code",
   "source": "bag[\"object/state/data\"]",
   "id": "ccdc0d40e4304324",
   "outputs": [
    {
     "data": {
      "text/plain": [
       "Metadata(qualname='ndarray', module='numpy', version='1.26.4', meta='')"
      ]
     },
     "execution_count": 37,
     "metadata": {},
     "output_type": "execute_result"
    }
   ],
   "execution_count": 37
  },
  {
   "metadata": {},
   "cell_type": "markdown",
   "source": "While for simple python primitives we don't bother storing anything",
   "id": "32e5d68c45f6ed4f"
  },
  {
   "metadata": {
    "ExecuteTime": {
     "end_time": "2025-04-11T15:59:38.379564Z",
     "start_time": "2025-04-11T15:59:38.377431Z"
    }
   },
   "cell_type": "code",
   "source": "print(bag[\"object/state/n\"])",
   "id": "e4f4a97e55e4a07f",
   "outputs": [
    {
     "name": "stdout",
     "output_type": "stream",
     "text": [
      "None\n"
     ]
    }
   ],
   "execution_count": 38
  },
  {
   "metadata": {},
   "cell_type": "markdown",
   "source": "And, of course, we store metadata about the bag itself!",
   "id": "1f604daacc4a6334"
  },
  {
   "metadata": {
    "ExecuteTime": {
     "end_time": "2025-04-11T15:59:38.391842Z",
     "start_time": "2025-04-11T15:59:38.389436Z"
    }
   },
   "cell_type": "code",
   "source": [
    "import re\n",
    "re.sub(r\"(?<=version=')[^']*\", \"...\", str(bag.get_bag_info()))\n",
    "# Don't worry about the regex, we're just replacing the version number so the automated test doesn't fail each new commit"
   ],
   "id": "c54f0040426c0b5c",
   "outputs": [
    {
     "data": {
      "text/plain": [
       "\"H5Info(qualname='H5Bag', module='bagofholding.h5.bag', version='...', libver_str='latest')\""
      ]
     },
     "execution_count": 39,
     "metadata": {},
     "output_type": "execute_result"
    }
   ],
   "execution_count": 39
  },
  {
   "metadata": {},
   "cell_type": "markdown",
   "source": "For Jupyter users, we can browse the structure and metadata of the stored object conveniently in a GUI",
   "id": "e5b90e3045e1f76e"
  },
  {
   "metadata": {
    "ExecuteTime": {
     "end_time": "2025-04-11T15:59:38.407937Z",
     "start_time": "2025-04-11T15:59:38.402683Z"
    }
   },
   "cell_type": "code",
   "source": [
    "widget = bag.browse()\n",
    "widget"
   ],
   "id": "d45c249ad0bb6c17",
   "outputs": [
    {
     "data": {
      "text/plain": [
       "BagTree(multiple_selection=False, nodes=(Node(disabled=True, icon='shopping-bag', name='Bag', nodes=(Node(disa…"
      ],
      "application/vnd.jupyter.widget-view+json": {
       "version_major": 2,
       "version_minor": 0,
       "model_id": "fde499327469448292142503154dbcb0"
      }
     },
     "execution_count": 40,
     "metadata": {},
     "output_type": "execute_result"
    }
   ],
   "execution_count": 40
  },
  {
   "metadata": {},
   "cell_type": "markdown",
   "source": [
    "## Partial loading\n",
    "\n",
    "A powerful advantage of `bagofholding` is that we allow objects to be only _partially_ reloaded! Since we track the internal object structure, we can pass a particular internal path within the object to reload just that piece"
   ],
   "id": "b35bfcea9e295b2"
  },
  {
   "metadata": {
    "ExecuteTime": {
     "end_time": "2025-04-11T15:59:38.418980Z",
     "start_time": "2025-04-11T15:59:38.416115Z"
    }
   },
   "cell_type": "code",
   "source": "bag.load(\"object/state/n\")",
   "id": "90e59d1c30992064",
   "outputs": [
    {
     "data": {
      "text/plain": [
       "10"
      ]
     },
     "execution_count": 41,
     "metadata": {},
     "output_type": "execute_result"
    }
   ],
   "execution_count": 41
  },
  {
   "metadata": {},
   "cell_type": "markdown",
   "source": [
    "Of course it may be convenient to leverage this feature, but its real power begins to shine when we consider long-term storage.\n",
    "\n",
    "Suppose your colleague worked with their custom python code to generate important data... and then left. Now you want to access that data, but don't have a python environment that includes all of their bespoke code! Let's simulate this by resetting our kernel's knowledge, and losing access to `__main__.MyCustomClass`."
   ],
   "id": "9bf0991c32ec22ab"
  },
  {
   "metadata": {
    "ExecuteTime": {
     "end_time": "2025-04-11T15:59:38.513786Z",
     "start_time": "2025-04-11T15:59:38.487051Z"
    }
   },
   "cell_type": "code",
   "source": "%reset -f",
   "id": "70443bcb75fc029e",
   "outputs": [],
   "execution_count": 42
  },
  {
   "metadata": {
    "ExecuteTime": {
     "end_time": "2025-04-11T15:59:38.519344Z",
     "start_time": "2025-04-11T15:59:38.517778Z"
    }
   },
   "cell_type": "code",
   "source": [
    "import bagofholding as boh\n",
    "\n",
    "filename = \"notebook_example.h5\""
   ],
   "id": "8c841101b8fd0efd",
   "outputs": [],
   "execution_count": 43
  },
  {
   "metadata": {},
   "cell_type": "markdown",
   "source": "We can still browse the saved object",
   "id": "b454f29e2e564a18"
  },
  {
   "metadata": {
    "ExecuteTime": {
     "end_time": "2025-04-11T15:59:38.527887Z",
     "start_time": "2025-04-11T15:59:38.522523Z"
    }
   },
   "cell_type": "code",
   "source": [
    "bag = boh.H5Bag(filename)\n",
    "bag.browse()"
   ],
   "id": "c9c36fbf06f0dae3",
   "outputs": [
    {
     "data": {
      "text/plain": [
       "BagTree(multiple_selection=False, nodes=(Node(disabled=True, icon='shopping-bag', name='Bag', nodes=(Node(disa…"
      ],
      "application/vnd.jupyter.widget-view+json": {
       "version_major": 2,
       "version_minor": 0,
       "model_id": "e2d22c1a2c8e49e69950fe0e2fc375dc"
      }
     },
     "execution_count": 44,
     "metadata": {},
     "output_type": "execute_result"
    }
   ],
   "execution_count": 44
  },
  {
   "metadata": {},
   "cell_type": "markdown",
   "source": "But of course, we are no longer able to simply reload it",
   "id": "30bf2c3269e1cfe0"
  },
  {
   "metadata": {
    "ExecuteTime": {
     "end_time": "2025-04-11T15:59:38.535503Z",
     "start_time": "2025-04-11T15:59:38.531620Z"
    }
   },
   "cell_type": "code",
   "source": [
    "try:\n",
    "    bag.load()\n",
    "except AttributeError as e:\n",
    "    print(e)"
   ],
   "id": "c026c2877c84a79e",
   "outputs": [
    {
     "name": "stdout",
     "output_type": "stream",
     "text": [
      "module '__main__' has no attribute 'MyCustomClass'\n"
     ]
    }
   ],
   "execution_count": 45
  },
  {
   "metadata": {},
   "cell_type": "markdown",
   "source": "However, if we know where the data we want is stored -- either because we're familiar with the object's library even though we don't have it available right now, or simply by inspecting the object's browsable structure using `bagofholding` -- then we can still reload just that data!",
   "id": "d85ec77f7bb82502"
  },
  {
   "metadata": {
    "ExecuteTime": {
     "end_time": "2025-04-11T15:59:38.546429Z",
     "start_time": "2025-04-11T15:59:38.543512Z"
    }
   },
   "cell_type": "code",
   "source": "bag.load(\"object/state/n\")",
   "id": "b66832b492baea32",
   "outputs": [
    {
     "data": {
      "text/plain": [
       "10"
      ]
     },
     "execution_count": 46,
     "metadata": {},
     "output_type": "execute_result"
    }
   ],
   "execution_count": 46
  },
  {
   "metadata": {},
   "cell_type": "markdown",
   "source": "In some cases we might want to have _part_ of the original environment available, i.e. that part needed to load the terminal data we're interested in. We can see what that is, right down to the version number",
   "id": "216c2311b876d9f0"
  },
  {
   "metadata": {
    "ExecuteTime": {
     "end_time": "2025-04-11T15:59:38.566760Z",
     "start_time": "2025-04-11T15:59:38.564350Z"
    }
   },
   "cell_type": "code",
   "source": "bag[\"object/state/data\"]",
   "id": "d3d3892e5f65551b",
   "outputs": [
    {
     "data": {
      "text/plain": [
       "Metadata(qualname='ndarray', module='numpy', version='1.26.4', meta='')"
      ]
     },
     "execution_count": 47,
     "metadata": {},
     "output_type": "execute_result"
    }
   ],
   "execution_count": 47
  },
  {
   "metadata": {},
   "cell_type": "markdown",
   "source": "And load once we've made it available to our current python interpreter",
   "id": "8deeb1bb3d79d786"
  },
  {
   "metadata": {
    "ExecuteTime": {
     "end_time": "2025-04-11T15:59:38.582697Z",
     "start_time": "2025-04-11T15:59:38.579488Z"
    }
   },
   "cell_type": "code",
   "source": [
    "import numpy as np\n",
    "\n",
    "bag.load(\"object/state/data\")"
   ],
   "id": "f9f5e19a4f083853",
   "outputs": [
    {
     "data": {
      "text/plain": [
       "array([0, 1, 2, 3, 4, 5, 6, 7, 8, 9])"
      ]
     },
     "execution_count": 48,
     "metadata": {},
     "output_type": "execute_result"
    }
   ],
   "execution_count": 48
  },
  {
   "metadata": {},
   "cell_type": "markdown",
   "source": "In this way, data stored with `bagofholding` is extremely transparent and robust.",
   "id": "6e11779cc770ce7b"
  },
  {
   "metadata": {},
   "cell_type": "markdown",
   "source": [
    "## Version control\n",
    "\n",
    "Another advantage to storing metadata is that we can check against stored versions at load-time to ensure that our current environment will be able to safely recreate the desired objects from the serialized data.\n",
    "\n",
    "By default, versions are found by looking at the `__version__` attribute of a given object's base module, but since not all modules store their versioning info this way, this can be overridden on a per-module basis using the `version_scraping` argument.\n",
    "\n",
    "By default, `bagofholding` will complain if two versions do not match exactly, but we can relax this with the `require_versions` argument.\n",
    "For semantically versioned packages, we have granular control over how strictly the versions match.\n",
    "\n",
    "For the sake of this notebook, let's use the `version_scraping` dictionary to provide a custom version for `numpy` at read-time, and then explore the possibilities for `require_versions`:"
   ],
   "id": "d7cd130f02833334"
  },
  {
   "metadata": {
    "ExecuteTime": {
     "end_time": "2025-04-11T15:59:38.595945Z",
     "start_time": "2025-04-11T15:59:38.593971Z"
    }
   },
   "cell_type": "code",
   "source": [
    "import importlib\n",
    "\n",
    "def change_numpy_major(module_name: str) -> str:\n",
    "    if module_name != \"numpy\":\n",
    "        raise ValueError(\"Hey, this is supposed to be a numpy-based example!\")\n",
    "    numpy = importlib.import_module(module_name)\n",
    "    numpy_actual_version = numpy.__version__\n",
    "    semantic_breakdown = numpy_actual_version.split(\".\")\n",
    "    semantic_breakdown[1] = \"9999\"  # Change the semantic minor version\n",
    "    return \".\".join(semantic_breakdown)"
   ],
   "id": "7b758775498ad711",
   "outputs": [],
   "execution_count": 49
  },
  {
   "metadata": {
    "ExecuteTime": {
     "end_time": "2025-04-11T15:59:38.604564Z",
     "start_time": "2025-04-11T15:59:38.602620Z"
    }
   },
   "cell_type": "code",
   "source": [
    "def print_error_without_addresses(e):\n",
    "    \"\"\"\n",
    "    Don't worry about this, it's just so automated tests don't get hung up\n",
    "    on memory addresses changing in error messages\n",
    "    \"\"\"\n",
    "    import re\n",
    "\n",
    "    msg = str(e)\n",
    "    pattern = re.compile(r\"<function (\\S+) at 0x[0-9a-fA-F]+>\")\n",
    "    clean_message = pattern.sub(r\"<function \\1 ...>\", msg)\n",
    "    pattern_lambda = re.compile(r\"<function <lambda> at 0x[0-9a-fA-F]+>\")\n",
    "    clean_message = pattern_lambda.sub(r\"<function <lambda> ...>\", clean_message)\n",
    "    print(clean_message)"
   ],
   "id": "799f96d6b0ede22b",
   "outputs": [],
   "execution_count": 50
  },
  {
   "metadata": {},
   "cell_type": "markdown",
   "source": "When our \"current version of numpy\" is X.9999.Z, default load behaviour will complain:",
   "id": "88eb603a3d5872f9"
  },
  {
   "metadata": {
    "ExecuteTime": {
     "end_time": "2025-04-11T15:59:38.615524Z",
     "start_time": "2025-04-11T15:59:38.613373Z"
    }
   },
   "cell_type": "code",
   "source": [
    "try:\n",
    "    bag.load(\"object/state/data\", version_scraping={\"numpy\": change_numpy_major})\n",
    "except boh.EnvironmentMismatchError as e:\n",
    "    print_error_without_addresses(e)"
   ],
   "id": "172fc878d8a4ef84",
   "outputs": [
    {
     "name": "stdout",
     "output_type": "stream",
     "text": [
      "numpy is stored with version 1.26.4, but the current environment has 1.9999.4. This does not pass validation criterion: <function _versions_are_equal ...>\n"
     ]
    }
   ],
   "execution_count": 51
  },
  {
   "metadata": {},
   "cell_type": "markdown",
   "source": "In fact, either of the choices below will complain that these versions are not compatible for loading:",
   "id": "683daa082ecac817"
  },
  {
   "metadata": {
    "ExecuteTime": {
     "end_time": "2025-04-11T15:59:38.629245Z",
     "start_time": "2025-04-11T15:59:38.626156Z"
    }
   },
   "cell_type": "code",
   "source": [
    "for validation in [\"exact\", \"semantic-minor\"]:\n",
    "    try:\n",
    "        bag.load(\"object/state/data\", version_validator=validation, version_scraping={\"numpy\": change_numpy_major})\n",
    "    except boh.EnvironmentMismatchError as e:\n",
    "        print_error_without_addresses(f\"Can't load with {validation}: {e}\")"
   ],
   "id": "4e6ba4c41364b5e6",
   "outputs": [
    {
     "name": "stdout",
     "output_type": "stream",
     "text": [
      "Can't load with exact: numpy is stored with version 1.26.4, but the current environment has 1.9999.4. This does not pass validation criterion: <function _versions_are_equal ...>\n",
      "Can't load with semantic-minor: numpy is stored with version 1.26.4, but the current environment has 1.9999.4. This does not pass validation criterion: <function _versions_match_semantic_minor ...>\n"
     ]
    }
   ],
   "execution_count": 52
  },
  {
   "metadata": {},
   "cell_type": "markdown",
   "source": "But either of these more relaxed flags will let us proceed:",
   "id": "665c6bbd0b79b97d"
  },
  {
   "metadata": {
    "ExecuteTime": {
     "end_time": "2025-04-11T15:59:38.637783Z",
     "start_time": "2025-04-11T15:59:38.634652Z"
    }
   },
   "cell_type": "code",
   "source": [
    "for validation in [\"semantic-major\", \"none\"]:\n",
    "    bag.load(\"object/state/data\", version_validator=validation, version_scraping={\"numpy\": change_numpy_major})\n",
    "    print(f\"Loaded without complaint with {validation}\")"
   ],
   "id": "d751b9d9de41493e",
   "outputs": [
    {
     "name": "stdout",
     "output_type": "stream",
     "text": [
      "Loaded without complaint with semantic-major\n",
      "Loaded without complaint with none\n"
     ]
    }
   ],
   "execution_count": 53
  },
  {
   "metadata": {},
   "cell_type": "markdown",
   "source": [
    "## Save-time safety\n",
    "\n",
    "Being able to exploit the above version control to the fullest means your stored object(s) needs to come from an importable module with some sort of versioning.\n",
    "To this end, we provide two save-time flags to ensure better behaviour from saved objects.\n",
    "\n",
    "First, you can require at save-time that non-standard objects all have a version:"
   ],
   "id": "f70c76c96684d067"
  },
  {
   "metadata": {
    "ExecuteTime": {
     "end_time": "2025-04-11T15:59:38.652126Z",
     "start_time": "2025-04-11T15:59:38.650493Z"
    }
   },
   "cell_type": "code",
   "source": [
    "class SomethingLocalAndUnversioned:\n",
    "    pass"
   ],
   "id": "ffd8790c7d9f3f7",
   "outputs": [],
   "execution_count": 54
  },
  {
   "metadata": {
    "ExecuteTime": {
     "end_time": "2025-04-11T15:59:38.772997Z",
     "start_time": "2025-04-11T15:59:38.665045Z"
    }
   },
   "cell_type": "code",
   "source": [
    "try:\n",
    "    boh.H5Bag.save(SomethingLocalAndUnversioned, filename, require_versions=True)\n",
    "except boh.NoVersionError as e:\n",
    "    print(e)"
   ],
   "id": "676c420af643f3e5",
   "outputs": [
    {
     "ename": "OSError",
     "evalue": "Unable to synchronously create file (unable to truncate a file which is already open)",
     "output_type": "error",
     "traceback": [
      "\u001B[0;31m---------------------------------------------------------------------------\u001B[0m",
      "\u001B[0;31mOSError\u001B[0m                                   Traceback (most recent call last)",
      "Cell \u001B[0;32mIn[55], line 2\u001B[0m\n\u001B[1;32m      1\u001B[0m \u001B[38;5;28;01mtry\u001B[39;00m:\n\u001B[0;32m----> 2\u001B[0m     \u001B[43mboh\u001B[49m\u001B[38;5;241;43m.\u001B[39;49m\u001B[43mH5Bag\u001B[49m\u001B[38;5;241;43m.\u001B[39;49m\u001B[43msave\u001B[49m\u001B[43m(\u001B[49m\u001B[43mSomethingLocalAndUnversioned\u001B[49m\u001B[43m,\u001B[49m\u001B[43m \u001B[49m\u001B[43mfilename\u001B[49m\u001B[43m,\u001B[49m\u001B[43m \u001B[49m\u001B[43mrequire_versions\u001B[49m\u001B[38;5;241;43m=\u001B[39;49m\u001B[38;5;28;43;01mTrue\u001B[39;49;00m\u001B[43m)\u001B[49m\n\u001B[1;32m      3\u001B[0m \u001B[38;5;28;01mexcept\u001B[39;00m boh\u001B[38;5;241m.\u001B[39mNoVersionError \u001B[38;5;28;01mas\u001B[39;00m e:\n\u001B[1;32m      4\u001B[0m     \u001B[38;5;28mprint\u001B[39m(e)\n",
      "File \u001B[0;32m~/dev/pyiron/bagofholding/bagofholding/bag.py:74\u001B[0m, in \u001B[0;36mBag.save\u001B[0;34m(cls, obj, filepath, require_versions, forbidden_modules, version_scraping, _pickle_protocol)\u001B[0m\n\u001B[1;32m     45\u001B[0m \u001B[38;5;129m@classmethod\u001B[39m\n\u001B[1;32m     46\u001B[0m \u001B[38;5;28;01mdef\u001B[39;00m \u001B[38;5;21msave\u001B[39m(\n\u001B[1;32m     47\u001B[0m     \u001B[38;5;28mcls\u001B[39m,\n\u001B[0;32m   (...)\u001B[0m\n\u001B[1;32m     53\u001B[0m     _pickle_protocol: SupportsIndex \u001B[38;5;241m=\u001B[39m pickle\u001B[38;5;241m.\u001B[39mDEFAULT_PROTOCOL,\n\u001B[1;32m     54\u001B[0m ) \u001B[38;5;241m-\u001B[39m\u001B[38;5;241m>\u001B[39m \u001B[38;5;28;01mNone\u001B[39;00m:\n\u001B[1;32m     55\u001B[0m \u001B[38;5;250m    \u001B[39m\u001B[38;5;124;03m\"\"\"\u001B[39;00m\n\u001B[1;32m     56\u001B[0m \u001B[38;5;124;03m    Save a python object to file.\u001B[39;00m\n\u001B[1;32m     57\u001B[0m \n\u001B[0;32m   (...)\u001B[0m\n\u001B[1;32m     72\u001B[0m \u001B[38;5;124;03m            string and looks for a `__version__` attribute.\u001B[39;00m\n\u001B[1;32m     73\u001B[0m \u001B[38;5;124;03m    \"\"\"\u001B[39;00m\n\u001B[0;32m---> 74\u001B[0m     \u001B[38;5;28;43mcls\u001B[39;49m\u001B[38;5;241;43m.\u001B[39;49m\u001B[43m_write_bag_info\u001B[49m\u001B[43m(\u001B[49m\u001B[43mfilepath\u001B[49m\u001B[43m,\u001B[49m\u001B[43m \u001B[49m\u001B[38;5;28;43mcls\u001B[39;49m\u001B[38;5;241;43m.\u001B[39;49m\u001B[43mget_bag_info\u001B[49m\u001B[43m(\u001B[49m\u001B[43m)\u001B[49m\u001B[43m)\u001B[49m\n\u001B[1;32m     75\u001B[0m     \u001B[38;5;28mcls\u001B[39m\u001B[38;5;241m.\u001B[39m_save(\n\u001B[1;32m     76\u001B[0m         obj,\n\u001B[1;32m     77\u001B[0m         filepath,\n\u001B[0;32m   (...)\u001B[0m\n\u001B[1;32m     81\u001B[0m         _pickle_protocol,\n\u001B[1;32m     82\u001B[0m     )\n",
      "File \u001B[0;32m~/dev/pyiron/bagofholding/bagofholding/h5/bag.py:33\u001B[0m, in \u001B[0;36mH5Bag._write_bag_info\u001B[0;34m(cls, filepath, bag_info)\u001B[0m\n\u001B[1;32m     27\u001B[0m \u001B[38;5;129m@classmethod\u001B[39m\n\u001B[1;32m     28\u001B[0m \u001B[38;5;28;01mdef\u001B[39;00m \u001B[38;5;21m_write_bag_info\u001B[39m(\n\u001B[1;32m     29\u001B[0m     \u001B[38;5;28mcls\u001B[39m,\n\u001B[1;32m     30\u001B[0m     filepath: \u001B[38;5;28mstr\u001B[39m \u001B[38;5;241m|\u001B[39m pathlib\u001B[38;5;241m.\u001B[39mPath,\n\u001B[1;32m     31\u001B[0m     bag_info: H5Info,\n\u001B[1;32m     32\u001B[0m ) \u001B[38;5;241m-\u001B[39m\u001B[38;5;241m>\u001B[39m \u001B[38;5;28;01mNone\u001B[39;00m:\n\u001B[0;32m---> 33\u001B[0m     \u001B[38;5;28;01mwith\u001B[39;00m \u001B[43mh5py\u001B[49m\u001B[38;5;241;43m.\u001B[39;49m\u001B[43mFile\u001B[49m\u001B[43m(\u001B[49m\u001B[43mfilepath\u001B[49m\u001B[43m,\u001B[49m\u001B[43m \u001B[49m\u001B[38;5;124;43m\"\u001B[39;49m\u001B[38;5;124;43mw\u001B[39;49m\u001B[38;5;124;43m\"\u001B[39;49m\u001B[43m,\u001B[49m\u001B[43m \u001B[49m\u001B[43mlibver\u001B[49m\u001B[38;5;241;43m=\u001B[39;49m\u001B[38;5;28;43mcls\u001B[39;49m\u001B[38;5;241;43m.\u001B[39;49m\u001B[43mlibver_str\u001B[49m\u001B[43m)\u001B[49m \u001B[38;5;28;01mas\u001B[39;00m f:\n\u001B[1;32m     34\u001B[0m         \u001B[38;5;28;01mfor\u001B[39;00m k, v \u001B[38;5;129;01min\u001B[39;00m \u001B[38;5;28mcls\u001B[39m\u001B[38;5;241m.\u001B[39mget_bag_info()\u001B[38;5;241m.\u001B[39mfield_items():\n\u001B[1;32m     35\u001B[0m             f\u001B[38;5;241m.\u001B[39mattrs[k] \u001B[38;5;241m=\u001B[39m v\n",
      "File \u001B[0;32m~/dev/miniforge3/envs/pyiron12/lib/python3.12/site-packages/h5py/_hl/files.py:561\u001B[0m, in \u001B[0;36mFile.__init__\u001B[0;34m(self, name, mode, driver, libver, userblock_size, swmr, rdcc_nslots, rdcc_nbytes, rdcc_w0, track_order, fs_strategy, fs_persist, fs_threshold, fs_page_size, page_buf_size, min_meta_keep, min_raw_keep, locking, alignment_threshold, alignment_interval, meta_block_size, **kwds)\u001B[0m\n\u001B[1;32m    552\u001B[0m     fapl \u001B[38;5;241m=\u001B[39m make_fapl(driver, libver, rdcc_nslots, rdcc_nbytes, rdcc_w0,\n\u001B[1;32m    553\u001B[0m                      locking, page_buf_size, min_meta_keep, min_raw_keep,\n\u001B[1;32m    554\u001B[0m                      alignment_threshold\u001B[38;5;241m=\u001B[39malignment_threshold,\n\u001B[1;32m    555\u001B[0m                      alignment_interval\u001B[38;5;241m=\u001B[39malignment_interval,\n\u001B[1;32m    556\u001B[0m                      meta_block_size\u001B[38;5;241m=\u001B[39mmeta_block_size,\n\u001B[1;32m    557\u001B[0m                      \u001B[38;5;241m*\u001B[39m\u001B[38;5;241m*\u001B[39mkwds)\n\u001B[1;32m    558\u001B[0m     fcpl \u001B[38;5;241m=\u001B[39m make_fcpl(track_order\u001B[38;5;241m=\u001B[39mtrack_order, fs_strategy\u001B[38;5;241m=\u001B[39mfs_strategy,\n\u001B[1;32m    559\u001B[0m                      fs_persist\u001B[38;5;241m=\u001B[39mfs_persist, fs_threshold\u001B[38;5;241m=\u001B[39mfs_threshold,\n\u001B[1;32m    560\u001B[0m                      fs_page_size\u001B[38;5;241m=\u001B[39mfs_page_size)\n\u001B[0;32m--> 561\u001B[0m     fid \u001B[38;5;241m=\u001B[39m \u001B[43mmake_fid\u001B[49m\u001B[43m(\u001B[49m\u001B[43mname\u001B[49m\u001B[43m,\u001B[49m\u001B[43m \u001B[49m\u001B[43mmode\u001B[49m\u001B[43m,\u001B[49m\u001B[43m \u001B[49m\u001B[43muserblock_size\u001B[49m\u001B[43m,\u001B[49m\u001B[43m \u001B[49m\u001B[43mfapl\u001B[49m\u001B[43m,\u001B[49m\u001B[43m \u001B[49m\u001B[43mfcpl\u001B[49m\u001B[43m,\u001B[49m\u001B[43m \u001B[49m\u001B[43mswmr\u001B[49m\u001B[38;5;241;43m=\u001B[39;49m\u001B[43mswmr\u001B[49m\u001B[43m)\u001B[49m\n\u001B[1;32m    563\u001B[0m \u001B[38;5;28;01mif\u001B[39;00m \u001B[38;5;28misinstance\u001B[39m(libver, \u001B[38;5;28mtuple\u001B[39m):\n\u001B[1;32m    564\u001B[0m     \u001B[38;5;28mself\u001B[39m\u001B[38;5;241m.\u001B[39m_libver \u001B[38;5;241m=\u001B[39m libver\n",
      "File \u001B[0;32m~/dev/miniforge3/envs/pyiron12/lib/python3.12/site-packages/h5py/_hl/files.py:241\u001B[0m, in \u001B[0;36mmake_fid\u001B[0;34m(name, mode, userblock_size, fapl, fcpl, swmr)\u001B[0m\n\u001B[1;32m    239\u001B[0m     fid \u001B[38;5;241m=\u001B[39m h5f\u001B[38;5;241m.\u001B[39mcreate(name, h5f\u001B[38;5;241m.\u001B[39mACC_EXCL, fapl\u001B[38;5;241m=\u001B[39mfapl, fcpl\u001B[38;5;241m=\u001B[39mfcpl)\n\u001B[1;32m    240\u001B[0m \u001B[38;5;28;01melif\u001B[39;00m mode \u001B[38;5;241m==\u001B[39m \u001B[38;5;124m'\u001B[39m\u001B[38;5;124mw\u001B[39m\u001B[38;5;124m'\u001B[39m:\n\u001B[0;32m--> 241\u001B[0m     fid \u001B[38;5;241m=\u001B[39m \u001B[43mh5f\u001B[49m\u001B[38;5;241;43m.\u001B[39;49m\u001B[43mcreate\u001B[49m\u001B[43m(\u001B[49m\u001B[43mname\u001B[49m\u001B[43m,\u001B[49m\u001B[43m \u001B[49m\u001B[43mh5f\u001B[49m\u001B[38;5;241;43m.\u001B[39;49m\u001B[43mACC_TRUNC\u001B[49m\u001B[43m,\u001B[49m\u001B[43m \u001B[49m\u001B[43mfapl\u001B[49m\u001B[38;5;241;43m=\u001B[39;49m\u001B[43mfapl\u001B[49m\u001B[43m,\u001B[49m\u001B[43m \u001B[49m\u001B[43mfcpl\u001B[49m\u001B[38;5;241;43m=\u001B[39;49m\u001B[43mfcpl\u001B[49m\u001B[43m)\u001B[49m\n\u001B[1;32m    242\u001B[0m \u001B[38;5;28;01melif\u001B[39;00m mode \u001B[38;5;241m==\u001B[39m \u001B[38;5;124m'\u001B[39m\u001B[38;5;124ma\u001B[39m\u001B[38;5;124m'\u001B[39m:\n\u001B[1;32m    243\u001B[0m     \u001B[38;5;66;03m# Open in append mode (read/write).\u001B[39;00m\n\u001B[1;32m    244\u001B[0m     \u001B[38;5;66;03m# If that fails, create a new file only if it won't clobber an\u001B[39;00m\n\u001B[1;32m    245\u001B[0m     \u001B[38;5;66;03m# existing one (ACC_EXCL)\u001B[39;00m\n\u001B[1;32m    246\u001B[0m     \u001B[38;5;28;01mtry\u001B[39;00m:\n",
      "File \u001B[0;32mh5py/_objects.pyx:54\u001B[0m, in \u001B[0;36mh5py._objects.with_phil.wrapper\u001B[0;34m()\u001B[0m\n",
      "File \u001B[0;32mh5py/_objects.pyx:55\u001B[0m, in \u001B[0;36mh5py._objects.with_phil.wrapper\u001B[0;34m()\u001B[0m\n",
      "File \u001B[0;32mh5py/h5f.pyx:122\u001B[0m, in \u001B[0;36mh5py.h5f.create\u001B[0;34m()\u001B[0m\n",
      "\u001B[0;31mOSError\u001B[0m: Unable to synchronously create file (unable to truncate a file which is already open)"
     ]
    }
   ],
   "execution_count": 55
  },
  {
   "metadata": {},
   "cell_type": "markdown",
   "source": "And second, you can forbid particular modules, e.g. some local library or, more commonly, `__main__`:",
   "id": "a88cd9496478186d"
  },
  {
   "metadata": {},
   "cell_type": "code",
   "outputs": [],
   "execution_count": null,
   "source": [
    "try:\n",
    "    boh.H5Bag.save(SomethingLocalAndUnversioned, filename, forbidden_modules=(\"__main__\",))\n",
    "except boh.ModuleForbiddenError as e:\n",
    "    print(e)"
   ],
   "id": "995381dc94f40c05"
  },
  {
   "metadata": {},
   "cell_type": "markdown",
   "source": [
    "## (Advanced topic) Customization\n",
    "\n",
    "Because it is modeled on the `pickle` API, power users can customize the `bagofholding` storage behavior using familiar tools like custom `__reduce__` or `__getstate__` methods on their classes.\n",
    "E.g., below we see that modifying the state manipulation impacts what is displayed on browsing:"
   ],
   "id": "7880ba4eba4778fc"
  },
  {
   "metadata": {},
   "cell_type": "code",
   "outputs": [],
   "execution_count": null,
   "source": [
    "class Customized:\n",
    "    def __init__(self, x):\n",
    "        self.x = x\n",
    "\n",
    "    def __getstate__(self):\n",
    "        return {\"by_default_this_would_just_be_x\": self.x}\n",
    "\n",
    "    def __setstate__(self, state):\n",
    "        self.x = state[\"by_default_this_would_just_be_x\"]\n",
    "boh.H5Bag.save(Customized(42), filename)\n",
    "boh.H5Bag(filename).list_paths()[-1]"
   ],
   "id": "780d657a9de7fd48"
  },
  {
   "metadata": {},
   "cell_type": "markdown",
   "source": [
    "## Limitations\n",
    "\n",
    "`bagofholding` uses many of the same patterns as `pickle`, and thus is only expected to work for objects which could otherwise be pickled.\n",
    "Bag objects offer a convenience method to quickly test this:"
   ],
   "id": "1f7d28e23c1b4a3d"
  },
  {
   "metadata": {},
   "cell_type": "code",
   "outputs": [],
   "execution_count": null,
   "source": [
    "message = boh.H5Bag.pickle_check(lambda x: x, raise_exceptions=False)\n",
    "print_error_without_addresses(message)"
   ],
   "id": "f6c592f5e5eb2625"
  },
  {
   "metadata": {},
   "cell_type": "markdown",
   "source": [
    "And although the same patterns as `pickle` are exploited, `bagofholding` does not actually _execute_ `pickle`.\n",
    "To this end, the highest protocol value exploiting out-of-band data is not supported:"
   ],
   "id": "9d446fffaf2ffc39"
  },
  {
   "metadata": {},
   "cell_type": "code",
   "outputs": [],
   "execution_count": null,
   "source": [
    "try:\n",
    "    boh.H5Bag.save(42, filename, _pickle_protocol=5)\n",
    "except boh.PickleProtocolError as e:\n",
    "    print(e)"
   ],
   "id": "28cb0861fd364ee8"
  },
  {
   "metadata": {},
   "cell_type": "markdown",
   "source": [
    "## Notebook cleanup\n",
    "\n",
    "At the end of the day, let's clean up the files we created."
   ],
   "id": "94bab79ee3fa4f8a"
  },
  {
   "metadata": {},
   "cell_type": "code",
   "outputs": [],
   "execution_count": null,
   "source": [
    "import contextlib\n",
    "import os\n",
    "\n",
    "with contextlib.suppress(FileNotFoundError):\n",
    "    os.remove(filename)"
   ],
   "id": "7066b6eec08f8608"
  }
 ],
 "metadata": {
  "kernelspec": {
   "display_name": "Python 3 (ipykernel)",
   "language": "python",
   "name": "python3"
  },
  "language_info": {
   "codemirror_mode": {
    "name": "ipython",
    "version": 3
   },
   "file_extension": ".py",
   "mimetype": "text/x-python",
   "name": "python",
   "nbconvert_exporter": "python",
   "pygments_lexer": "ipython3",
   "version": "3.11.7"
  }
 },
 "nbformat": 4,
 "nbformat_minor": 5
}
