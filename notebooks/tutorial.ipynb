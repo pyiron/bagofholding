{
 "cells": [
  {
   "cell_type": "markdown",
   "id": "c44a93e4-1ce4-4a26-a82a-3d2bff41988b",
   "metadata": {},
   "source": [
    "# `bagofholding` introduction\n",
    "\n",
    "This notebook provides a quick rundown of the key user-facing features for `bagofholding`"
   ]
  },
  {
   "cell_type": "code",
   "id": "52a8cfcc",
   "metadata": {
    "ExecuteTime": {
     "end_time": "2025-04-11T14:30:46.557774Z",
     "start_time": "2025-04-11T14:30:46.402839Z"
    }
   },
   "source": [
    "import numpy as np\n",
    "\n",
    "import bagofholding as boh"
   ],
   "outputs": [],
   "execution_count": 1
  },
  {
   "metadata": {},
   "cell_type": "markdown",
   "source": "`bagofholding` is intended to work with any `pickle`-able python object, so first let's whip up some custom class to work with",
   "id": "7b18d364e1b6c1e1"
  },
  {
   "metadata": {
    "ExecuteTime": {
     "end_time": "2025-04-11T14:30:46.562485Z",
     "start_time": "2025-04-11T14:30:46.560454Z"
    }
   },
   "cell_type": "code",
   "source": [
    "class MyCustomClass:\n",
    "    def __init__(self, n: int):\n",
    "        self.n = n\n",
    "        self.name = f\"my_custom_class_{n}\"\n",
    "        self.data = np.arange(n)\n",
    "\n",
    "    def __eq__(self, other):\n",
    "        return all(\n",
    "            (\n",
    "                self.__class__ == other.__class__,\n",
    "                self.n == other.n,\n",
    "                self.name == other.name,\n",
    "                np.all(self.data == other.data),\n",
    "            )\n",
    "        )\n",
    "\n",
    "my_object = MyCustomClass(10)\n",
    "my_object.__metadata__ = \"Let's add some metadata reminding ourselves this was created for the example notebook\""
   ],
   "id": "f83e885dca4e11a1",
   "outputs": [],
   "execution_count": 2
  },
  {
   "metadata": {},
   "cell_type": "markdown",
   "source": [
    "## Basics\n",
    "\n",
    "Storage with `bagofholding` differs from `pickle` under the hood, but is intended to be similarly easy to work with.\n",
    "\n",
    "The underlying analogy is that we have a \"bag\" that we're putting our python objects into. Presently, the only back-end we have implemented uses HDF5 with `h5py`, so let's save our object with a bag of that flavour"
   ],
   "id": "2bf608b930fb230f"
  },
  {
   "metadata": {
    "ExecuteTime": {
     "end_time": "2025-04-11T14:30:46.616112Z",
     "start_time": "2025-04-11T14:30:46.611311Z"
    }
   },
   "cell_type": "code",
   "source": [
    "filename = \"notebook_example.h5\"\n",
    "boh.H5Bag.save(my_object, filename)"
   ],
   "id": "8d4b58f7557a869d",
   "outputs": [],
   "execution_count": 3
  },
  {
   "metadata": {},
   "cell_type": "markdown",
   "source": "Saving is a class-level method, we never actually need to instantiate a \"bag\". For loading, we do:",
   "id": "1a72ac45fe1c136b"
  },
  {
   "metadata": {
    "ExecuteTime": {
     "end_time": "2025-04-11T14:30:46.623943Z",
     "start_time": "2025-04-11T14:30:46.619487Z"
    }
   },
   "cell_type": "code",
   "source": [
    "bag = boh.H5Bag(filename)\n",
    "reloaded = bag.load()\n",
    "\n",
    "print(\"The reloaded object is the same as the saved object:\", reloaded == my_object)"
   ],
   "id": "3a8aa7d9bb2ccde6",
   "outputs": [
    {
     "name": "stdout",
     "output_type": "stream",
     "text": [
      "The reloaded object is the same as the saved object: True\n"
     ]
    }
   ],
   "execution_count": 4
  },
  {
   "metadata": {},
   "cell_type": "markdown",
   "source": [
    "So the basic save-load cycle is extremely straightforward. From here on, we go beyond the power of `pickle`.\n",
    "\n",
    "We make a \"bag\" object before loading because, without re-instantiating anything we've saved, we can look at its internal structure! Under the hood, we leverage the same [`__reduce__` workflow that `pickle` uses](https://docs.python.org/3/library/pickle.html#object.__reduce__) in order to decompose arbitrary objects. But instead of lumping everything together in a binary blob, `bagofholding` lets us peek at these different components:"
   ],
   "id": "dbea8083c861fde2"
  },
  {
   "metadata": {
    "ExecuteTime": {
     "end_time": "2025-04-11T14:30:46.633345Z",
     "start_time": "2025-04-11T14:30:46.630402Z"
    }
   },
   "cell_type": "code",
   "source": "bag.list_paths()",
   "id": "9c0e28c7f29e9ec5",
   "outputs": [
    {
     "data": {
      "text/plain": [
       "['object',\n",
       " 'object/args',\n",
       " 'object/args/i0',\n",
       " 'object/constructor',\n",
       " 'object/item_iterator',\n",
       " 'object/kv_iterator',\n",
       " 'object/state',\n",
       " 'object/state/__metadata__',\n",
       " 'object/state/data',\n",
       " 'object/state/n',\n",
       " 'object/state/name']"
      ]
     },
     "execution_count": 5,
     "metadata": {},
     "output_type": "execute_result"
    }
   ],
   "execution_count": 5
  },
  {
   "metadata": {},
   "cell_type": "markdown",
   "source": [
    "## Metadata\n",
    "\n",
    "We have additionally scraped metadata from our object at save-time, which can be found using item-access on the bag with the appropriate path:"
   ],
   "id": "3e8a19a48c015745"
  },
  {
   "metadata": {
    "ExecuteTime": {
     "end_time": "2025-04-11T14:30:46.643797Z",
     "start_time": "2025-04-11T14:30:46.641594Z"
    }
   },
   "cell_type": "code",
   "source": "bag[\"object\"]",
   "id": "5c24b1507d4bbdd7",
   "outputs": [
    {
     "data": {
      "text/plain": [
       "Metadata(qualname='MyCustomClass', module='__main__', version='', meta=\"Let's add some metadata reminding ourselves this was created for the example notebook\")"
      ]
     },
     "execution_count": 6,
     "metadata": {},
     "output_type": "execute_result"
    }
   ],
   "execution_count": 6
  },
  {
   "metadata": {},
   "cell_type": "markdown",
   "source": "Complex objects like numpy arrays get non-trivial metadata",
   "id": "5a015abd428a3f6e"
  },
  {
   "metadata": {
    "ExecuteTime": {
     "end_time": "2025-04-11T14:30:46.654722Z",
     "start_time": "2025-04-11T14:30:46.652344Z"
    }
   },
   "cell_type": "code",
   "source": "bag[\"object/state/data\"]",
   "id": "11d9e1c9c32fc1bd",
   "outputs": [
    {
     "data": {
      "text/plain": [
       "Metadata(qualname='ndarray', module='numpy', version='1.26.4', meta='')"
      ]
     },
     "execution_count": 7,
     "metadata": {},
     "output_type": "execute_result"
    }
   ],
   "execution_count": 7
  },
  {
   "metadata": {},
   "cell_type": "markdown",
   "source": "While for simple python primitives we don't bother storing anything",
   "id": "bd9c605cc230b887"
  },
  {
   "metadata": {
    "ExecuteTime": {
     "end_time": "2025-04-11T14:30:46.667337Z",
     "start_time": "2025-04-11T14:30:46.665404Z"
    }
   },
   "cell_type": "code",
   "source": "print(bag[\"object/state/n\"])",
   "id": "edbb55dde894d6fb",
   "outputs": [
    {
     "name": "stdout",
     "output_type": "stream",
     "text": [
      "None\n"
     ]
    }
   ],
   "execution_count": 8
  },
  {
   "metadata": {},
   "cell_type": "markdown",
   "source": "And, of course, we store metadata about the bag itself!",
   "id": "ae6e6d30a85a0b24"
  },
  {
   "metadata": {
    "ExecuteTime": {
     "end_time": "2025-04-11T14:30:46.678696Z",
     "start_time": "2025-04-11T14:30:46.676745Z"
    }
   },
   "cell_type": "code",
   "source": [
    "import re\n",
    "re.sub(r\"(?<=version=')[^']*\", \"...\", str(bag.get_bag_info()))\n",
    "# Don't worry about the regex, we're just replacing the version number so the automated test doesn't fail each new commit"
   ],
   "id": "be4e56d58c6f6493",
   "outputs": [
    {
     "data": {
      "text/plain": [
       "\"H5Info(qualname='H5Bag', module='bagofholding.h5.bag', version='...', libver_str='latest')\""
      ]
     },
     "execution_count": 9,
     "metadata": {},
     "output_type": "execute_result"
    }
   ],
   "execution_count": 9
  },
  {
   "metadata": {},
   "cell_type": "markdown",
   "source": "For Jupyter users, we can browse the structure and metadata of the stored object conveniently in a GUI",
   "id": "755ec7b905140ba2"
  },
  {
   "metadata": {
    "ExecuteTime": {
     "end_time": "2025-04-11T14:30:46.691258Z",
     "start_time": "2025-04-11T14:30:46.689791Z"
    }
   },
   "cell_type": "code",
   "source": [
    "# widget = bag.browse()\n",
    "# widget"
   ],
   "id": "9b84fd040248d69c",
   "outputs": [],
   "execution_count": 10
  },
  {
   "metadata": {},
   "cell_type": "markdown",
   "source": [
    "## Partial loading\n",
    "\n",
    "A powerful advantage of `bagofholding` is that we allow objects to be only _partially_ reloaded! Since we track the internal object structure, we can pass a particular internal path within the object to reload just that piece"
   ],
   "id": "a3e17d46e2499f87"
  },
  {
   "metadata": {
    "ExecuteTime": {
     "end_time": "2025-04-11T14:30:46.703528Z",
     "start_time": "2025-04-11T14:30:46.701062Z"
    }
   },
   "cell_type": "code",
   "source": "bag.load(\"object/state/n\")",
   "id": "dde42eb3952ceca5",
   "outputs": [
    {
     "data": {
      "text/plain": [
       "10"
      ]
     },
     "execution_count": 11,
     "metadata": {},
     "output_type": "execute_result"
    }
   ],
   "execution_count": 11
  },
  {
   "metadata": {},
   "cell_type": "markdown",
   "source": [
    "Of course it may be convenient to leverage this feature, but its real power begins to shine when we consider long-term storage.\n",
    "\n",
    "Suppose your colleague worked with their custom python code to generate important data... and then left. Now you want to access that data, but don't have a python environment that includes all of their bespoke code! Let's simulate this by resetting our kernel's knowledge, and losing access to `__main__.MyCustomClass`."
   ],
   "id": "918ff3eccf8de85b"
  },
  {
   "metadata": {
    "ExecuteTime": {
     "end_time": "2025-04-11T14:30:46.744157Z",
     "start_time": "2025-04-11T14:30:46.709507Z"
    }
   },
   "cell_type": "code",
   "source": "%reset -f",
   "id": "3d2cb5ce7e1d9f5",
   "outputs": [],
   "execution_count": 12
  },
  {
   "metadata": {
    "ExecuteTime": {
     "end_time": "2025-04-11T14:30:46.749395Z",
     "start_time": "2025-04-11T14:30:46.748040Z"
    }
   },
   "cell_type": "code",
   "source": [
    "import bagofholding as boh\n",
    "\n",
    "filename = \"notebook_example.h5\""
   ],
   "id": "190500969d575dd3",
   "outputs": [],
   "execution_count": 13
  },
  {
   "metadata": {},
   "cell_type": "markdown",
   "source": "We can still browse the saved object",
   "id": "3c49eef3f154184d"
  },
  {
   "metadata": {
    "ExecuteTime": {
     "end_time": "2025-04-11T14:30:46.756168Z",
     "start_time": "2025-04-11T14:30:46.753741Z"
    }
   },
   "cell_type": "code",
   "source": [
    "bag = boh.H5Bag(filename)\n",
    "# bag.browse()"
   ],
   "id": "cf8913dbe19b78ef",
   "outputs": [],
   "execution_count": 14
  },
  {
   "metadata": {},
   "cell_type": "markdown",
   "source": "But of course, we are no longer able to simply reload it",
   "id": "94113f9ccb785434"
  },
  {
   "metadata": {
    "ExecuteTime": {
     "end_time": "2025-04-11T14:30:46.765871Z",
     "start_time": "2025-04-11T14:30:46.762945Z"
    }
   },
   "cell_type": "code",
   "source": [
    "try:\n",
    "    bag.load()\n",
    "except AttributeError as e:\n",
    "    print(e)"
   ],
   "id": "2c9b564d70fb32a3",
   "outputs": [
    {
     "name": "stdout",
     "output_type": "stream",
     "text": [
      "module '__main__' has no attribute 'MyCustomClass'\n"
     ]
    }
   ],
   "execution_count": 15
  },
  {
   "metadata": {},
   "cell_type": "markdown",
   "source": "However, if we know where the data we want is stored -- either because we're familiar with the object's library even though we don't have it available right now, or simply by inspecting the object's browsable structure using `bagofholding` -- then we can still reload just that data!",
   "id": "e504db983723a057"
  },
  {
   "metadata": {
    "ExecuteTime": {
     "end_time": "2025-04-11T14:30:46.776516Z",
     "start_time": "2025-04-11T14:30:46.774064Z"
    }
   },
   "cell_type": "code",
   "source": "bag.load(\"object/state/n\")",
   "id": "c04a7773188df470",
   "outputs": [
    {
     "data": {
      "text/plain": [
       "10"
      ]
     },
     "execution_count": 16,
     "metadata": {},
     "output_type": "execute_result"
    }
   ],
   "execution_count": 16
  },
  {
   "metadata": {},
   "cell_type": "markdown",
   "source": "In some cases we might want to have _part_ of the original environment available, i.e. that part needed to load the terminal data we're interested in. We can see what that is, right down to the version number",
   "id": "a3570b6d197b17b7"
  },
  {
   "metadata": {
    "ExecuteTime": {
     "end_time": "2025-04-11T14:30:46.788236Z",
     "start_time": "2025-04-11T14:30:46.785813Z"
    }
   },
   "cell_type": "code",
   "source": "bag[\"object/state/data\"]",
   "id": "2deca7834cc87bc4",
   "outputs": [
    {
     "data": {
      "text/plain": [
       "Metadata(qualname='ndarray', module='numpy', version='1.26.4', meta='')"
      ]
     },
     "execution_count": 17,
     "metadata": {},
     "output_type": "execute_result"
    }
   ],
   "execution_count": 17
  },
  {
   "metadata": {},
   "cell_type": "markdown",
   "source": "And load once we've made it available to our current python interpreter",
   "id": "a0d9d37d4e2d7ac1"
  },
  {
   "metadata": {
    "ExecuteTime": {
     "end_time": "2025-04-11T14:30:46.801119Z",
     "start_time": "2025-04-11T14:30:46.798345Z"
    }
   },
   "cell_type": "code",
   "source": [
    "import numpy as np\n",
    "\n",
    "bag.load(\"object/state/data\")"
   ],
   "id": "c59ff86db7d826e1",
   "outputs": [
    {
     "data": {
      "text/plain": [
       "array([0, 1, 2, 3, 4, 5, 6, 7, 8, 9])"
      ]
     },
     "execution_count": 18,
     "metadata": {},
     "output_type": "execute_result"
    }
   ],
   "execution_count": 18
  },
  {
   "metadata": {},
   "cell_type": "markdown",
   "source": "In this way, data stored with `bagofholding` is extremely transparent and robust.",
   "id": "9e939313859ccfaf"
  },
  {
   "metadata": {},
   "cell_type": "markdown",
   "source": [
    "## Version control\n",
    "\n",
    "Another advantage to storing metadata is that we can check against stored versions at load-time to ensure that our current environment will be able to safely recreate the desired objects from the serialized data.\n",
    "\n",
    "By default, versions are found by looking at the `__version__` attribute of a given object's base module, but since not all modules store their versioning info this way, this can be overridden on a per-module basis using the `version_scraping` argument.\n",
    "\n",
    "By default, `bagofholding` will complain if two versions do not match exactly, but we can relax this with the `require_versions` argument.\n",
    "For semantically versioned packages, we have granular control over how strictly the versions match.\n",
    "\n",
    "For the sake of this notebook, let's use the `version_scraping` dictionary to provide a custom version for `numpy` at read-time, and then explore the possibilities for `require_versions`:"
   ],
   "id": "a0df6f360ad94d87"
  },
  {
   "metadata": {
    "ExecuteTime": {
     "end_time": "2025-04-11T14:30:46.810587Z",
     "start_time": "2025-04-11T14:30:46.808910Z"
    }
   },
   "cell_type": "code",
   "source": [
    "import importlib\n",
    "\n",
    "def change_numpy_major(module_name: str) -> str:\n",
    "    if module_name != \"numpy\":\n",
    "        raise ValueError(\"Hey, this is supposed to be a numpy-based example!\")\n",
    "    numpy = importlib.import_module(module_name)\n",
    "    numpy_actual_version = numpy.__version__\n",
    "    semantic_breakdown = numpy_actual_version.split(\".\")\n",
    "    semantic_breakdown[1] = \"9999\"  # Change the semantic minor version\n",
    "    return \".\".join(semantic_breakdown)"
   ],
   "id": "770dc4087a1ddacc",
   "outputs": [],
   "execution_count": 19
  },
  {
   "metadata": {
    "ExecuteTime": {
     "end_time": "2025-04-11T14:30:46.820723Z",
     "start_time": "2025-04-11T14:30:46.818950Z"
    }
   },
   "cell_type": "code",
   "source": [
    "def print_error_without_addresses(e):\n",
    "    \"\"\"\n",
    "    Don't worry about this, it's just so automated tests don't get hung up\n",
    "    on memory addresses changing in error messages\n",
    "    \"\"\"\n",
    "    import re\n",
    "\n",
    "    msg = str(e)\n",
    "    pattern = re.compile(r\"<function (\\S+) at 0x[0-9a-fA-F]+>\")\n",
    "    clean_message = pattern.sub(r\"<function \\1 ...>\", msg)\n",
    "    pattern_lambda = re.compile(r\"<function <lambda> at 0x[0-9a-fA-F]+>\")\n",
    "    clean_message = pattern_lambda.sub(r\"<function <lambda> ...>\", clean_message)\n",
    "    print(clean_message)"
   ],
   "id": "a8d2371b4f07648",
   "outputs": [],
   "execution_count": 20
  },
  {
   "metadata": {},
   "cell_type": "markdown",
   "source": "When our \"current version of numpy\" is X.9999.Z, default load behaviour will complain:",
   "id": "1b85c305c340aa61"
  },
  {
   "metadata": {
    "ExecuteTime": {
     "end_time": "2025-04-11T14:30:46.831225Z",
     "start_time": "2025-04-11T14:30:46.828669Z"
    }
   },
   "cell_type": "code",
   "source": [
    "try:\n",
    "    bag.load(\"object/state/data\", version_scraping={\"numpy\": change_numpy_major})\n",
    "except boh.EnvironmentMismatchError as e:\n",
    "    print_error_without_addresses(e)"
   ],
   "id": "f87a3ce05a271ff",
   "outputs": [
    {
     "name": "stdout",
     "output_type": "stream",
     "text": [
      "numpy is stored with version 1.26.4, but the current environment has 1.9999.4. This does not pass validation criterion: <function _versions_are_equal ...>\n"
     ]
    }
   ],
   "execution_count": 21
  },
  {
   "metadata": {},
   "cell_type": "markdown",
   "source": "In fact, either of the choices below will complain that these versions are not compatible for loading:",
   "id": "301c310ea718c9a"
  },
  {
   "metadata": {
    "ExecuteTime": {
     "end_time": "2025-04-11T14:30:46.842899Z",
     "start_time": "2025-04-11T14:30:46.839728Z"
    }
   },
   "cell_type": "code",
   "source": [
    "for validation in [\"exact\", \"semantic-minor\"]:\n",
    "    try:\n",
    "        bag.load(\"object/state/data\", version_validator=validation, version_scraping={\"numpy\": change_numpy_major})\n",
    "    except boh.EnvironmentMismatchError as e:\n",
    "        print_error_without_addresses(f\"Can't load with {validation}: {e}\")"
   ],
   "id": "5a5635a55abb2a4a",
   "outputs": [
    {
     "name": "stdout",
     "output_type": "stream",
     "text": [
      "Can't load with exact: numpy is stored with version 1.26.4, but the current environment has 1.9999.4. This does not pass validation criterion: <function _versions_are_equal ...>\n",
      "Can't load with semantic-minor: numpy is stored with version 1.26.4, but the current environment has 1.9999.4. This does not pass validation criterion: <function _versions_match_semantic_minor ...>\n"
     ]
    }
   ],
   "execution_count": 22
  },
  {
   "metadata": {},
   "cell_type": "markdown",
   "source": "But either of these more relaxed flags will let us proceed:",
   "id": "2360e409a686a0dd"
  },
  {
   "metadata": {
    "ExecuteTime": {
     "end_time": "2025-04-11T14:30:46.854268Z",
     "start_time": "2025-04-11T14:30:46.851258Z"
    }
   },
   "cell_type": "code",
   "source": [
    "for validation in [\"semantic-major\", \"none\"]:\n",
    "    bag.load(\"object/state/data\", version_validator=validation, version_scraping={\"numpy\": change_numpy_major})\n",
    "    print(f\"Loaded without complaint with {validation}\")"
   ],
   "id": "bad1d9ac4c0089d2",
   "outputs": [
    {
     "name": "stdout",
     "output_type": "stream",
     "text": [
      "Loaded without complaint with semantic-major\n",
      "Loaded without complaint with none\n"
     ]
    }
   ],
   "execution_count": 23
  },
  {
   "metadata": {},
   "cell_type": "markdown",
   "source": [
    "## Save-time safety\n",
    "\n",
    "Being able to exploit the above version control to the fullest means your stored object(s) needs to come from an importable module with some sort of versioning.\n",
    "To this end, we provide two save-time flags to ensure better behaviour from saved objects.\n",
    "\n",
    "First, you can require at save-time that non-standard objects all have a version:"
   ],
   "id": "ba9406c6e5bfaf1e"
  },
  {
   "metadata": {
    "ExecuteTime": {
     "end_time": "2025-04-11T14:30:46.860870Z",
     "start_time": "2025-04-11T14:30:46.859576Z"
    }
   },
   "cell_type": "code",
   "source": [
    "class SomethingLocalAndUnversioned:\n",
    "    pass"
   ],
   "id": "2241b142329421bd",
   "outputs": [],
   "execution_count": 24
  },
  {
   "metadata": {
    "ExecuteTime": {
     "end_time": "2025-04-11T14:30:46.872380Z",
     "start_time": "2025-04-11T14:30:46.869116Z"
    }
   },
   "cell_type": "code",
   "source": [
    "try:\n",
    "    boh.H5Bag.save(SomethingLocalAndUnversioned, filename, require_versions=True)\n",
    "except boh.NoVersionError as e:\n",
    "    print(e)"
   ],
   "id": "2becfd602e96c203",
   "outputs": [
    {
     "name": "stdout",
     "output_type": "stream",
     "text": [
      "Could not find a version for __main__. Either disable `require_versions`, use `version_scraping` to find an existing version for this package, or add versioning to the unversioned package.\n"
     ]
    }
   ],
   "execution_count": 25
  },
  {
   "metadata": {},
   "cell_type": "markdown",
   "source": "And second, you can forbid particular modules, e.g. some local library or, more commonly, `__main__`:",
   "id": "adbd0e456bc00d3a"
  },
  {
   "metadata": {
    "ExecuteTime": {
     "end_time": "2025-04-11T14:30:46.882317Z",
     "start_time": "2025-04-11T14:30:46.878938Z"
    }
   },
   "cell_type": "code",
   "source": [
    "try:\n",
    "    boh.H5Bag.save(SomethingLocalAndUnversioned, filename, forbidden_modules=(\"__main__\",))\n",
    "except boh.ModuleForbiddenError as e:\n",
    "    print(e)"
   ],
   "id": "1e86ea4db760622e",
   "outputs": [
    {
     "name": "stdout",
     "output_type": "stream",
     "text": [
      "Module '__main__' is forbidden as a source of stored objects. Change the `forbidden_modules` or move this object to an allowed module.\n"
     ]
    }
   ],
   "execution_count": 26
  },
  {
   "metadata": {},
   "cell_type": "markdown",
   "source": [
    "## (Advanced topic) Customization\n",
    "\n",
    "Because it is modeled on the `pickle` API, power users can customize the `bagofholding` storage behavior using familiar tools like custom `__reduce__` or `__getstate__` methods on their classes.\n",
    "E.g., below we see that modifying the state manipulation impacts what is displayed on browsing:"
   ],
   "id": "563f6ff0f7c315a8"
  },
  {
   "metadata": {
    "ExecuteTime": {
     "end_time": "2025-04-11T14:30:46.897334Z",
     "start_time": "2025-04-11T14:30:46.892119Z"
    }
   },
   "cell_type": "code",
   "source": [
    "class Customized:\n",
    "    def __init__(self, x):\n",
    "        self.x = x\n",
    "\n",
    "    def __getstate__(self):\n",
    "        return {\"by_default_this_would_just_be_x\": self.x}\n",
    "\n",
    "    def __setstate__(self, state):\n",
    "        self.x = state[\"by_default_this_would_just_be_x\"]\n",
    "boh.H5Bag.save(Customized(42), filename)\n",
    "boh.H5Bag(filename).list_paths()[-1]"
   ],
   "id": "89b50e6bb1b2a3de",
   "outputs": [
    {
     "data": {
      "text/plain": [
       "'object/state/by_default_this_would_just_be_x'"
      ]
     },
     "execution_count": 27,
     "metadata": {},
     "output_type": "execute_result"
    }
   ],
   "execution_count": 27
  },
  {
   "metadata": {},
   "cell_type": "markdown",
   "source": [
    "## Limitations\n",
    "\n",
    "`bagofholding` uses many of the same patterns as `pickle`, and thus is only expected to work for objects which could otherwise be pickled.\n",
    "Bag objects offer a convenience method to quickly test this:"
   ],
   "id": "8d7440972ebcf82c"
  },
  {
   "metadata": {
    "ExecuteTime": {
     "end_time": "2025-04-11T14:30:46.902874Z",
     "start_time": "2025-04-11T14:30:46.901361Z"
    }
   },
   "cell_type": "code",
   "source": [
    "message = boh.H5Bag.pickle_check(lambda x: x, raise_exceptions=False)\n",
    "print_error_without_addresses(message)"
   ],
   "id": "d056661771b9bda9",
   "outputs": [
    {
     "name": "stdout",
     "output_type": "stream",
     "text": [
      "Can't pickle <function <lambda> ...>: attribute lookup <lambda> on __main__ failed\n"
     ]
    }
   ],
   "execution_count": 28
  },
  {
   "metadata": {},
   "cell_type": "markdown",
   "source": [
    "And although the same patterns as `pickle` are exploited, `bagofholding` does not actually _execute_ `pickle`.\n",
    "To this end, the highest protocol value exploiting out-of-band data is not supported:"
   ],
   "id": "a128019f932a5d9c"
  },
  {
   "metadata": {
    "ExecuteTime": {
     "end_time": "2025-04-11T14:30:46.914958Z",
     "start_time": "2025-04-11T14:30:46.912519Z"
    }
   },
   "cell_type": "code",
   "source": [
    "try:\n",
    "    boh.H5Bag.save(42, filename, _pickle_protocol=5)\n",
    "except boh.PickleProtocolError as e:\n",
    "    print(e)"
   ],
   "id": "c1e277d4b2723274",
   "outputs": [
    {
     "name": "stdout",
     "output_type": "stream",
     "text": [
      "pickle protocol must be <= 4, got 5\n"
     ]
    }
   ],
   "execution_count": 29
  },
  {
   "metadata": {},
   "cell_type": "markdown",
   "source": [
    "## Notebook cleanup\n",
    "\n",
    "At the end of the day, let's clean up the files we created."
   ],
   "id": "3ca53a62c6f1e392"
  },
  {
   "metadata": {
    "ExecuteTime": {
     "end_time": "2025-04-11T14:30:46.926911Z",
     "start_time": "2025-04-11T14:30:46.925204Z"
    }
   },
   "cell_type": "code",
   "source": [
    "import contextlib\n",
    "import os\n",
    "\n",
    "with contextlib.suppress(FileNotFoundError):\n",
    "    os.remove(filename)"
   ],
   "id": "d70ffbc28dae19fa",
   "outputs": [],
   "execution_count": 30
  }
 ],
 "metadata": {
  "kernelspec": {
   "display_name": "Python 3 (ipykernel)",
   "language": "python",
   "name": "python3"
  },
  "language_info": {
   "codemirror_mode": {
    "name": "ipython",
    "version": 3
   },
   "file_extension": ".py",
   "mimetype": "text/x-python",
   "name": "python",
   "nbconvert_exporter": "python",
   "pygments_lexer": "ipython3",
   "version": "3.11.7"
  }
 },
 "nbformat": 4,
 "nbformat_minor": 5
}
