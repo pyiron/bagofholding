{
 "cells": [
  {
   "metadata": {},
   "cell_type": "markdown",
   "source": [
    "# `bagofholding` introduction\n",
    "\n",
    "This notebook provides a quick rundown of the key user-facing features for `bagofholding`"
   ],
   "id": "6be429b8dfe9b11f"
  },
  {
   "metadata": {
    "ExecuteTime": {
     "end_time": "2025-04-14T22:55:42.189980Z",
     "start_time": "2025-04-14T22:55:41.995850Z"
    }
   },
   "cell_type": "code",
   "source": [
    "import numpy as np\n",
    "\n",
    "import bagofholding as boh"
   ],
   "id": "d9c19bfdab383403",
   "outputs": [],
   "execution_count": 1
  },
  {
   "metadata": {},
   "cell_type": "markdown",
   "source": "`bagofholding` is intended to work with any `pickle`-able python object, so first let's whip up some custom class to work with",
   "id": "21698f0a9180ca76"
  },
  {
   "metadata": {
    "ExecuteTime": {
     "end_time": "2025-04-14T22:55:42.194678Z",
     "start_time": "2025-04-14T22:55:42.192547Z"
    }
   },
   "cell_type": "code",
   "source": [
    "class MyCustomClass:\n",
    "    def __init__(self, n: int):\n",
    "        self.n = n\n",
    "        self.name = f\"my_custom_class_{n}\"\n",
    "        self.data = np.arange(n)\n",
    "\n",
    "    def __eq__(self, other):\n",
    "        return all(\n",
    "            (\n",
    "                self.__class__ == other.__class__,\n",
    "                self.n == other.n,\n",
    "                self.name == other.name,\n",
    "                np.all(self.data == other.data),\n",
    "            )\n",
    "        )\n",
    "\n",
    "my_object = MyCustomClass(10)\n",
    "my_object.__metadata__ = \"Let's add some metadata reminding ourselves this was created for the example notebook\""
   ],
   "id": "fe48a25b0bb0435b",
   "outputs": [],
   "execution_count": 2
  },
  {
   "metadata": {},
   "cell_type": "markdown",
   "source": [
    "## Basics\n",
    "\n",
    "Storage with `bagofholding` differs from `pickle` under the hood, but is intended to be similarly easy to work with.\n",
    "\n",
    "The underlying analogy is that we have a \"bag\" that we're putting our python objects into. Presently, the only back-end we have implemented uses HDF5 with `h5py`, so let's save our object with a bag of that flavour"
   ],
   "id": "9c09b6aed45f4342"
  },
  {
   "metadata": {
    "ExecuteTime": {
     "end_time": "2025-04-14T22:55:42.259767Z",
     "start_time": "2025-04-14T22:55:42.253476Z"
    }
   },
   "cell_type": "code",
   "source": [
    "filename = \"notebook_example.h5\"\n",
    "boh.H5Bag.save(my_object, filename)"
   ],
   "id": "316dab21fdbf074b",
   "outputs": [],
   "execution_count": 3
  },
  {
   "metadata": {},
   "cell_type": "markdown",
   "source": "Saving is a class-level method, we never actually need to instantiate a \"bag\". For loading, we do:",
   "id": "78aeb7cab60da1b5"
  },
  {
   "metadata": {
    "ExecuteTime": {
     "end_time": "2025-04-14T22:55:42.271275Z",
     "start_time": "2025-04-14T22:55:42.264025Z"
    }
   },
   "cell_type": "code",
   "source": [
    "bag = boh.H5Bag(filename)\n",
    "reloaded = bag.load()\n",
    "\n",
    "print(\"The reloaded object is the same as the saved object:\", reloaded == my_object)"
   ],
   "id": "b6f35d6fe5a9ba7",
   "outputs": [
    {
     "name": "stdout",
     "output_type": "stream",
     "text": [
      "The reloaded object is the same as the saved object: True\n"
     ]
    }
   ],
   "execution_count": 4
  },
  {
   "metadata": {},
   "cell_type": "markdown",
   "source": [
    "So the basic save-load cycle is extremely straightforward. From here on, we go beyond the power of `pickle`.\n",
    "\n",
    "We make a \"bag\" object before loading because, without re-instantiating anything we've saved, we can look at its internal structure! Under the hood, we leverage the same [`__reduce__` workflow that `pickle` uses](https://docs.python.org/3/library/pickle.html#object.__reduce__) in order to decompose arbitrary objects. But instead of lumping everything together in a binary blob, `bagofholding` lets us peek at these different components:"
   ],
   "id": "768a3a54c3a556b2"
  },
  {
   "metadata": {
    "ExecuteTime": {
     "end_time": "2025-04-14T22:55:42.282682Z",
     "start_time": "2025-04-14T22:55:42.279442Z"
    }
   },
   "cell_type": "code",
   "source": "bag.list_paths()",
   "id": "87864f699da8f3cf",
   "outputs": [
    {
     "data": {
      "text/plain": [
       "['object',\n",
       " 'object/args',\n",
       " 'object/args/i0',\n",
       " 'object/constructor',\n",
       " 'object/item_iterator',\n",
       " 'object/kv_iterator',\n",
       " 'object/state',\n",
       " 'object/state/__metadata__',\n",
       " 'object/state/data',\n",
       " 'object/state/n',\n",
       " 'object/state/name']"
      ]
     },
     "execution_count": 5,
     "metadata": {},
     "output_type": "execute_result"
    }
   ],
   "execution_count": 5
  },
  {
   "metadata": {},
   "cell_type": "markdown",
   "source": [
    "## Metadata\n",
    "\n",
    "We have additionally scraped metadata from our object at save-time, which can be found using item-access on the bag with the appropriate path:"
   ],
   "id": "2a7276339024b83e"
  },
  {
   "metadata": {
    "ExecuteTime": {
     "end_time": "2025-04-14T22:55:42.303170Z",
     "start_time": "2025-04-14T22:55:42.299349Z"
    }
   },
   "cell_type": "code",
   "source": "bag[\"object\"]",
   "id": "7ee01d6910aa9619",
   "outputs": [
    {
     "data": {
      "text/plain": [
       "Metadata(content_type='bagofholding.h5.content.Reducible', qualname='MyCustomClass', module='__main__', version=None, meta=\"Let's add some metadata reminding ourselves this was created for the example notebook\")"
      ]
     },
     "execution_count": 6,
     "metadata": {},
     "output_type": "execute_result"
    }
   ],
   "execution_count": 6
  },
  {
   "metadata": {},
   "cell_type": "markdown",
   "source": "Complex objects like numpy arrays get non-trivial metadata",
   "id": "689147946404c8bc"
  },
  {
   "metadata": {
    "ExecuteTime": {
     "end_time": "2025-04-14T22:55:42.325961Z",
     "start_time": "2025-04-14T22:55:42.322563Z"
    }
   },
   "cell_type": "code",
   "source": "bag[\"object/state/data\"]",
   "id": "ccdc0d40e4304324",
   "outputs": [
    {
     "data": {
      "text/plain": [
       "Metadata(content_type='bagofholding.h5.content.Array', qualname='ndarray', module='numpy', version='1.26.4', meta=None)"
      ]
     },
     "execution_count": 7,
     "metadata": {},
     "output_type": "execute_result"
    }
   ],
   "execution_count": 7
  },
  {
   "metadata": {},
   "cell_type": "markdown",
   "source": "While for simple python primitives we don't bother storing anything",
   "id": "32e5d68c45f6ed4f"
  },
  {
   "metadata": {
    "ExecuteTime": {
     "end_time": "2025-04-14T22:55:42.348330Z",
     "start_time": "2025-04-14T22:55:42.345317Z"
    }
   },
   "cell_type": "code",
   "source": "print(bag[\"object/state/n\"])",
   "id": "e4f4a97e55e4a07f",
   "outputs": [
    {
     "name": "stdout",
     "output_type": "stream",
     "text": [
      "Metadata(content_type='bagofholding.h5.content.Long', qualname=None, module=None, version=None, meta=None)\n"
     ]
    }
   ],
   "execution_count": 8
  },
  {
   "metadata": {},
   "cell_type": "markdown",
   "source": "And, of course, we store metadata about the bag itself!",
   "id": "1f604daacc4a6334"
  },
  {
   "metadata": {
    "ExecuteTime": {
     "end_time": "2025-04-14T22:55:42.371946Z",
     "start_time": "2025-04-14T22:55:42.369631Z"
    }
   },
   "cell_type": "code",
   "source": [
    "import re\n",
    "re.sub(r\"(?<=version=')[^']*\", \"...\", str(bag.get_bag_info()))\n",
    "# Don't worry about the regex, we're just replacing the version number so the automated test doesn't fail each new commit"
   ],
   "id": "c54f0040426c0b5c",
   "outputs": [
    {
     "data": {
      "text/plain": [
       "\"H5Info(qualname='H5Bag', module='bagofholding.h5.bag', version='...', libver_str='latest')\""
      ]
     },
     "execution_count": 9,
     "metadata": {},
     "output_type": "execute_result"
    }
   ],
   "execution_count": 9
  },
  {
   "metadata": {},
   "cell_type": "markdown",
   "source": "For Jupyter users, we can browse the structure and metadata of the stored object conveniently in a GUI",
   "id": "e5b90e3045e1f76e"
  },
  {
   "metadata": {
    "ExecuteTime": {
     "end_time": "2025-04-14T22:55:42.397737Z",
     "start_time": "2025-04-14T22:55:42.392138Z"
    }
   },
   "cell_type": "code",
   "source": [
    "widget = bag.browse()\n",
    "widget"
   ],
   "id": "d45c249ad0bb6c17",
   "outputs": [
    {
     "data": {
      "text/plain": [
       "BagTree(multiple_selection=False, nodes=(Node(disabled=True, icon='shopping-bag', name='Bag', nodes=(Node(disa…"
      ],
      "application/vnd.jupyter.widget-view+json": {
       "version_major": 2,
       "version_minor": 0,
       "model_id": "2f66cdc8d9cf48568768846c0e525b97"
      }
     },
     "execution_count": 10,
     "metadata": {},
     "output_type": "execute_result"
    }
   ],
   "execution_count": 10
  },
  {
   "metadata": {},
   "cell_type": "markdown",
   "source": [
    "## Partial loading\n",
    "\n",
    "A powerful advantage of `bagofholding` is that we allow objects to be only _partially_ reloaded! Since we track the internal object structure, we can pass a particular internal path within the object to reload just that piece"
   ],
   "id": "b35bfcea9e295b2"
  },
  {
   "metadata": {
    "ExecuteTime": {
     "end_time": "2025-04-14T22:55:42.430797Z",
     "start_time": "2025-04-14T22:55:42.427206Z"
    }
   },
   "cell_type": "code",
   "source": "bag.load(\"object/state/n\")",
   "id": "90e59d1c30992064",
   "outputs": [
    {
     "data": {
      "text/plain": [
       "10"
      ]
     },
     "execution_count": 11,
     "metadata": {},
     "output_type": "execute_result"
    }
   ],
   "execution_count": 11
  },
  {
   "metadata": {},
   "cell_type": "markdown",
   "source": [
    "Of course it may be convenient to leverage this feature, but its real power begins to shine when we consider long-term storage.\n",
    "\n",
    "Suppose your colleague worked with their custom python code to generate important data... and then left. Now you want to access that data, but don't have a python environment that includes all of their bespoke code! Let's simulate this by resetting our kernel's knowledge, and losing access to `__main__.MyCustomClass`."
   ],
   "id": "9bf0991c32ec22ab"
  },
  {
   "metadata": {
    "ExecuteTime": {
     "end_time": "2025-04-14T22:55:42.489753Z",
     "start_time": "2025-04-14T22:55:42.463267Z"
    }
   },
   "cell_type": "code",
   "source": "%reset -f",
   "id": "70443bcb75fc029e",
   "outputs": [],
   "execution_count": 12
  },
  {
   "metadata": {
    "ExecuteTime": {
     "end_time": "2025-04-14T22:55:42.495896Z",
     "start_time": "2025-04-14T22:55:42.493838Z"
    }
   },
   "cell_type": "code",
   "source": [
    "import bagofholding as boh\n",
    "\n",
    "filename = \"notebook_example.h5\""
   ],
   "id": "8c841101b8fd0efd",
   "outputs": [],
   "execution_count": 13
  },
  {
   "metadata": {},
   "cell_type": "markdown",
   "source": "We can still browse the saved object",
   "id": "b454f29e2e564a18"
  },
  {
   "metadata": {
    "ExecuteTime": {
     "end_time": "2025-04-14T22:55:42.509676Z",
     "start_time": "2025-04-14T22:55:42.503561Z"
    }
   },
   "cell_type": "code",
   "source": [
    "bag = boh.H5Bag(filename)\n",
    "bag.browse()"
   ],
   "id": "c9c36fbf06f0dae3",
   "outputs": [
    {
     "data": {
      "text/plain": [
       "BagTree(multiple_selection=False, nodes=(Node(disabled=True, icon='shopping-bag', name='Bag', nodes=(Node(disa…"
      ],
      "application/vnd.jupyter.widget-view+json": {
       "version_major": 2,
       "version_minor": 0,
       "model_id": "cd690cc6a5da4bafb575bbd71a81148d"
      }
     },
     "execution_count": 14,
     "metadata": {},
     "output_type": "execute_result"
    }
   ],
   "execution_count": 14
  },
  {
   "metadata": {},
   "cell_type": "markdown",
   "source": "But of course, we are no longer able to simply reload it",
   "id": "30bf2c3269e1cfe0"
  },
  {
   "metadata": {
    "ExecuteTime": {
     "end_time": "2025-04-14T22:55:42.518626Z",
     "start_time": "2025-04-14T22:55:42.514333Z"
    }
   },
   "cell_type": "code",
   "source": [
    "try:\n",
    "    bag.load()\n",
    "except AttributeError as e:\n",
    "    print(e)"
   ],
   "id": "c026c2877c84a79e",
   "outputs": [
    {
     "name": "stdout",
     "output_type": "stream",
     "text": [
      "module '__main__' has no attribute 'MyCustomClass'\n"
     ]
    }
   ],
   "execution_count": 15
  },
  {
   "metadata": {},
   "cell_type": "markdown",
   "source": "However, if we know where the data we want is stored -- either because we're familiar with the object's library even though we don't have it available right now, or simply by inspecting the object's browsable structure using `bagofholding` -- then we can still reload just that data!",
   "id": "d85ec77f7bb82502"
  },
  {
   "metadata": {
    "ExecuteTime": {
     "end_time": "2025-04-14T22:55:42.588783Z",
     "start_time": "2025-04-14T22:55:42.585209Z"
    }
   },
   "cell_type": "code",
   "source": "bag.load(\"object/state/n\")",
   "id": "b66832b492baea32",
   "outputs": [
    {
     "data": {
      "text/plain": [
       "10"
      ]
     },
     "execution_count": 16,
     "metadata": {},
     "output_type": "execute_result"
    }
   ],
   "execution_count": 16
  },
  {
   "metadata": {},
   "cell_type": "markdown",
   "source": "In some cases we might want to have _part_ of the original environment available, i.e. that part needed to load the terminal data we're interested in. We can see what that is, right down to the version number",
   "id": "216c2311b876d9f0"
  },
  {
   "metadata": {
    "ExecuteTime": {
     "end_time": "2025-04-14T22:55:42.606303Z",
     "start_time": "2025-04-14T22:55:42.603210Z"
    }
   },
   "cell_type": "code",
   "source": "bag[\"object/state/data\"]",
   "id": "d3d3892e5f65551b",
   "outputs": [
    {
     "data": {
      "text/plain": [
       "Metadata(content_type='bagofholding.h5.content.Array', qualname='ndarray', module='numpy', version='1.26.4', meta=None)"
      ]
     },
     "execution_count": 17,
     "metadata": {},
     "output_type": "execute_result"
    }
   ],
   "execution_count": 17
  },
  {
   "metadata": {},
   "cell_type": "markdown",
   "source": "And load once we've made it available to our current python interpreter",
   "id": "8deeb1bb3d79d786"
  },
  {
   "metadata": {
    "ExecuteTime": {
     "end_time": "2025-04-14T22:55:42.640407Z",
     "start_time": "2025-04-14T22:55:42.636969Z"
    }
   },
   "cell_type": "code",
   "source": [
    "import numpy as np\n",
    "\n",
    "bag.load(\"object/state/data\")"
   ],
   "id": "f9f5e19a4f083853",
   "outputs": [
    {
     "data": {
      "text/plain": [
       "array([0, 1, 2, 3, 4, 5, 6, 7, 8, 9])"
      ]
     },
     "execution_count": 18,
     "metadata": {},
     "output_type": "execute_result"
    }
   ],
   "execution_count": 18
  },
  {
   "metadata": {},
   "cell_type": "markdown",
   "source": "In this way, data stored with `bagofholding` is extremely transparent and robust.",
   "id": "6e11779cc770ce7b"
  },
  {
   "metadata": {},
   "cell_type": "markdown",
   "source": [
    "## Version control\n",
    "\n",
    "Another advantage to storing metadata is that we can check against stored versions at load-time to ensure that our current environment will be able to safely recreate the desired objects from the serialized data.\n",
    "\n",
    "By default, versions are found by looking at the `__version__` attribute of a given object's base module, but since not all modules store their versioning info this way, this can be overridden on a per-module basis using the `version_scraping` argument.\n",
    "\n",
    "By default, `bagofholding` will complain if two versions do not match exactly, but we can relax this with the `require_versions` argument.\n",
    "For semantically versioned packages, we have granular control over how strictly the versions match.\n",
    "\n",
    "For the sake of this notebook, let's use the `version_scraping` dictionary to provide a custom version for `numpy` at read-time, and then explore the possibilities for `require_versions`:"
   ],
   "id": "d7cd130f02833334"
  },
  {
   "metadata": {
    "ExecuteTime": {
     "end_time": "2025-04-14T22:55:42.669598Z",
     "start_time": "2025-04-14T22:55:42.667577Z"
    }
   },
   "cell_type": "code",
   "source": [
    "import importlib\n",
    "\n",
    "def change_numpy_major(module_name: str) -> str:\n",
    "    if module_name != \"numpy\":\n",
    "        raise ValueError(\"Hey, this is supposed to be a numpy-based example!\")\n",
    "    numpy = importlib.import_module(module_name)\n",
    "    numpy_actual_version = numpy.__version__\n",
    "    semantic_breakdown = numpy_actual_version.split(\".\")\n",
    "    semantic_breakdown[1] = \"9999\"  # Change the semantic minor version\n",
    "    return \".\".join(semantic_breakdown)"
   ],
   "id": "7b758775498ad711",
   "outputs": [],
   "execution_count": 19
  },
  {
   "metadata": {
    "ExecuteTime": {
     "end_time": "2025-04-14T22:55:42.697728Z",
     "start_time": "2025-04-14T22:55:42.695609Z"
    }
   },
   "cell_type": "code",
   "source": [
    "def print_error_without_addresses(e):\n",
    "    \"\"\"\n",
    "    Don't worry about this, it's just so automated tests don't get hung up\n",
    "    on memory addresses changing in error messages\n",
    "    \"\"\"\n",
    "    import re\n",
    "\n",
    "    msg = str(e)\n",
    "    pattern = re.compile(r\"<function (\\S+) at 0x[0-9a-fA-F]+>\")\n",
    "    clean_message = pattern.sub(r\"<function \\1 ...>\", msg)\n",
    "    pattern_lambda = re.compile(r\"<function <lambda> at 0x[0-9a-fA-F]+>\")\n",
    "    clean_message = pattern_lambda.sub(r\"<function <lambda> ...>\", clean_message)\n",
    "    print(clean_message)"
   ],
   "id": "799f96d6b0ede22b",
   "outputs": [],
   "execution_count": 20
  },
  {
   "metadata": {},
   "cell_type": "markdown",
   "source": "When our \"current version of numpy\" is X.9999.Z, default load behaviour will complain:",
   "id": "88eb603a3d5872f9"
  },
  {
   "metadata": {
    "ExecuteTime": {
     "end_time": "2025-04-14T22:55:42.729184Z",
     "start_time": "2025-04-14T22:55:42.725532Z"
    }
   },
   "cell_type": "code",
   "source": [
    "try:\n",
    "    bag.load(\"object/state/data\", version_scraping={\"numpy\": change_numpy_major})\n",
    "except boh.EnvironmentMismatchError as e:\n",
    "    print_error_without_addresses(e)"
   ],
   "id": "172fc878d8a4ef84",
   "outputs": [
    {
     "name": "stdout",
     "output_type": "stream",
     "text": [
      "numpy is stored with version 1.26.4, but the current environment has 1.9999.4. This does not pass validation criterion: <function _versions_are_equal ...>\n"
     ]
    }
   ],
   "execution_count": 21
  },
  {
   "metadata": {},
   "cell_type": "markdown",
   "source": "In fact, either of the choices below will complain that these versions are not compatible for loading:",
   "id": "683daa082ecac817"
  },
  {
   "metadata": {
    "ExecuteTime": {
     "end_time": "2025-04-14T22:55:42.745241Z",
     "start_time": "2025-04-14T22:55:42.741112Z"
    }
   },
   "cell_type": "code",
   "source": [
    "for validation in [\"exact\", \"semantic-minor\"]:\n",
    "    try:\n",
    "        bag.load(\"object/state/data\", version_validator=validation, version_scraping={\"numpy\": change_numpy_major})\n",
    "    except boh.EnvironmentMismatchError as e:\n",
    "        print_error_without_addresses(f\"Can't load with {validation}: {e}\")"
   ],
   "id": "4e6ba4c41364b5e6",
   "outputs": [
    {
     "name": "stdout",
     "output_type": "stream",
     "text": [
      "Can't load with exact: numpy is stored with version 1.26.4, but the current environment has 1.9999.4. This does not pass validation criterion: <function _versions_are_equal ...>\n",
      "Can't load with semantic-minor: numpy is stored with version 1.26.4, but the current environment has 1.9999.4. This does not pass validation criterion: <function _versions_match_semantic_minor ...>\n"
     ]
    }
   ],
   "execution_count": 22
  },
  {
   "metadata": {},
   "cell_type": "markdown",
   "source": "But either of these more relaxed flags will let us proceed:",
   "id": "665c6bbd0b79b97d"
  },
  {
   "metadata": {
    "ExecuteTime": {
     "end_time": "2025-04-14T22:55:42.757193Z",
     "start_time": "2025-04-14T22:55:42.753314Z"
    }
   },
   "cell_type": "code",
   "source": [
    "for validation in [\"semantic-major\", \"none\"]:\n",
    "    bag.load(\"object/state/data\", version_validator=validation, version_scraping={\"numpy\": change_numpy_major})\n",
    "    print(f\"Loaded without complaint with {validation}\")"
   ],
   "id": "d751b9d9de41493e",
   "outputs": [
    {
     "name": "stdout",
     "output_type": "stream",
     "text": [
      "Loaded without complaint with semantic-major\n",
      "Loaded without complaint with none\n"
     ]
    }
   ],
   "execution_count": 23
  },
  {
   "metadata": {},
   "cell_type": "markdown",
   "source": [
    "## Save-time safety\n",
    "\n",
    "Being able to exploit the above version control to the fullest means your stored object(s) needs to come from an importable module with some sort of versioning.\n",
    "To this end, we provide two save-time flags to ensure better behaviour from saved objects.\n",
    "\n",
    "First, you can require at save-time that non-standard objects all have a version:"
   ],
   "id": "f70c76c96684d067"
  },
  {
   "metadata": {
    "ExecuteTime": {
     "end_time": "2025-04-14T22:55:42.770985Z",
     "start_time": "2025-04-14T22:55:42.769487Z"
    }
   },
   "cell_type": "code",
   "source": [
    "class SomethingLocalAndUnversioned:\n",
    "    pass"
   ],
   "id": "ffd8790c7d9f3f7",
   "outputs": [],
   "execution_count": 24
  },
  {
   "metadata": {
    "ExecuteTime": {
     "end_time": "2025-04-14T22:55:42.791526Z",
     "start_time": "2025-04-14T22:55:42.788489Z"
    }
   },
   "cell_type": "code",
   "source": [
    "try:\n",
    "    boh.H5Bag.save(SomethingLocalAndUnversioned, filename, require_versions=True)\n",
    "except boh.NoVersionError as e:\n",
    "    print(e)"
   ],
   "id": "676c420af643f3e5",
   "outputs": [
    {
     "name": "stdout",
     "output_type": "stream",
     "text": [
      "Could not find a version for __main__. Either disable `require_versions`, use `version_scraping` to find an existing version for this package, or add versioning to the unversioned package.\n"
     ]
    }
   ],
   "execution_count": 25
  },
  {
   "metadata": {},
   "cell_type": "markdown",
   "source": "And second, you can forbid particular modules, e.g. some local library or, more commonly, `__main__`:",
   "id": "a88cd9496478186d"
  },
  {
   "metadata": {
    "ExecuteTime": {
     "end_time": "2025-04-14T22:55:42.815820Z",
     "start_time": "2025-04-14T22:55:42.812776Z"
    }
   },
   "cell_type": "code",
   "source": [
    "try:\n",
    "    boh.H5Bag.save(SomethingLocalAndUnversioned, filename, forbidden_modules=(\"__main__\",))\n",
    "except boh.ModuleForbiddenError as e:\n",
    "    print(e)"
   ],
   "id": "995381dc94f40c05",
   "outputs": [
    {
     "name": "stdout",
     "output_type": "stream",
     "text": [
      "Module '__main__' is forbidden as a source of stored objects. Change the `forbidden_modules` or move this object to an allowed module.\n"
     ]
    }
   ],
   "execution_count": 26
  },
  {
   "metadata": {},
   "cell_type": "markdown",
   "source": [
    "## (Advanced topic) Customization\n",
    "\n",
    "Because it is modeled on the `pickle` API, power users can customize the `bagofholding` storage behavior using familiar tools like custom `__reduce__` or `__getstate__` methods on their classes.\n",
    "E.g., below we see that modifying the state manipulation impacts what is displayed on browsing:"
   ],
   "id": "7880ba4eba4778fc"
  },
  {
   "metadata": {
    "ExecuteTime": {
     "end_time": "2025-04-14T22:55:42.833342Z",
     "start_time": "2025-04-14T22:55:42.827503Z"
    }
   },
   "cell_type": "code",
   "source": [
    "class Customized:\n",
    "    def __init__(self, x):\n",
    "        self.x = x\n",
    "\n",
    "    def __getstate__(self):\n",
    "        return {\"by_default_this_would_just_be_x\": self.x}\n",
    "\n",
    "    def __setstate__(self, state):\n",
    "        self.x = state[\"by_default_this_would_just_be_x\"]\n",
    "boh.H5Bag.save(Customized(42), filename)\n",
    "boh.H5Bag(filename).list_paths()[-1]"
   ],
   "id": "780d657a9de7fd48",
   "outputs": [
    {
     "data": {
      "text/plain": [
       "'object/state/by_default_this_would_just_be_x'"
      ]
     },
     "execution_count": 27,
     "metadata": {},
     "output_type": "execute_result"
    }
   ],
   "execution_count": 27
  },
  {
   "metadata": {},
   "cell_type": "markdown",
   "source": [
    "## Limitations\n",
    "\n",
    "`bagofholding` uses many of the same patterns as `pickle`, and thus is only expected to work for objects which could otherwise be pickled.\n",
    "Bag objects offer a convenience method to quickly test this:"
   ],
   "id": "1f7d28e23c1b4a3d"
  },
  {
   "metadata": {
    "ExecuteTime": {
     "end_time": "2025-04-14T22:55:42.852848Z",
     "start_time": "2025-04-14T22:55:42.850939Z"
    }
   },
   "cell_type": "code",
   "source": [
    "message = boh.H5Bag.pickle_check(lambda x: x, raise_exceptions=False)\n",
    "print_error_without_addresses(message)"
   ],
   "id": "f6c592f5e5eb2625",
   "outputs": [
    {
     "name": "stdout",
     "output_type": "stream",
     "text": [
      "Can't pickle <function <lambda> ...>: attribute lookup <lambda> on __main__ failed\n"
     ]
    }
   ],
   "execution_count": 28
  },
  {
   "metadata": {},
   "cell_type": "markdown",
   "source": [
    "And although the same patterns as `pickle` are exploited, `bagofholding` does not actually _execute_ `pickle`.\n",
    "To this end, the highest protocol value exploiting out-of-band data is not supported:"
   ],
   "id": "9d446fffaf2ffc39"
  },
  {
   "metadata": {
    "ExecuteTime": {
     "end_time": "2025-04-14T22:55:42.874082Z",
     "start_time": "2025-04-14T22:55:42.871334Z"
    }
   },
   "cell_type": "code",
   "source": [
    "try:\n",
    "    boh.H5Bag.save(42, filename, _pickle_protocol=5)\n",
    "except boh.PickleProtocolError as e:\n",
    "    print(e)"
   ],
   "id": "28cb0861fd364ee8",
   "outputs": [
    {
     "name": "stdout",
     "output_type": "stream",
     "text": [
      "pickle protocol must be <= 4, got 5\n"
     ]
    }
   ],
   "execution_count": 29
  },
  {
   "metadata": {},
   "cell_type": "markdown",
   "source": [
    "## Notebook cleanup\n",
    "\n",
    "At the end of the day, let's clean up the files we created."
   ],
   "id": "94bab79ee3fa4f8a"
  },
  {
   "metadata": {
    "ExecuteTime": {
     "end_time": "2025-04-14T22:55:42.897199Z",
     "start_time": "2025-04-14T22:55:42.895514Z"
    }
   },
   "cell_type": "code",
   "source": [
    "import contextlib\n",
    "import os\n",
    "\n",
    "with contextlib.suppress(FileNotFoundError):\n",
    "    os.remove(filename)"
   ],
   "id": "7066b6eec08f8608",
   "outputs": [],
   "execution_count": 30
  }
 ],
 "metadata": {
  "kernelspec": {
   "display_name": "Python 3 (ipykernel)",
   "language": "python",
   "name": "python3"
  },
  "language_info": {
   "codemirror_mode": {
    "name": "ipython",
    "version": 3
   },
   "file_extension": ".py",
   "mimetype": "text/x-python",
   "name": "python",
   "nbconvert_exporter": "python",
   "pygments_lexer": "ipython3",
   "version": "3.11.7"
  }
 },
 "nbformat": 4,
 "nbformat_minor": 5
}
